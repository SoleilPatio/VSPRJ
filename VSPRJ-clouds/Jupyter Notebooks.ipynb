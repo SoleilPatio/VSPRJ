{
 "metadata": {
  "language_info": {
   "codemirror_mode": {
    "name": "ipython",
    "version": 3
   },
   "file_extension": ".py",
   "mimetype": "text/x-python",
   "name": "python",
   "nbconvert_exporter": "python",
   "pygments_lexer": "ipython3",
   "version": "3.8.6"
  },
  "orig_nbformat": 2,
  "kernelspec": {
   "name": "python3",
   "display_name": "Python 3.8.6 64-bit"
  },
  "metadata": {
   "interpreter": {
    "hash": "03ad6049ce5c3dfaab6edaa45028ebbe90f9a158d5b9c6ce1826b3e2a83f9137"
   }
  },
  "interpreter": {
   "hash": "03ad6049ce5c3dfaab6edaa45028ebbe90f9a158d5b9c6ce1826b3e2a83f9137"
  }
 },
 "nbformat": 4,
 "nbformat_minor": 2,
 "cells": [
  {
   "cell_type": "code",
   "execution_count": 14,
   "metadata": {},
   "outputs": [
    {
     "output_type": "stream",
     "name": "stdout",
     "text": [
      "l=[0, 1, 2, 3, 4, 5, 6, 7, 8, 9]\nlo_i=2\nup_i=4\n[2, 3]\n"
     ]
    },
    {
     "output_type": "execute_result",
     "data": {
      "text/plain": [
       "inf"
      ]
     },
     "metadata": {},
     "execution_count": 14
    }
   ],
   "source": [
    "a = float('inf')\n",
    "print(a)"
   ]
  },
  {
   "cell_type": "code",
   "execution_count": 6,
   "metadata": {},
   "outputs": [
    {
     "output_type": "stream",
     "name": "stdout",
     "text": [
      "[0 0 1 0 1 0 1 0 1 0 1 0 0 0 0 0 0 0 0]\n[ 0  5 10 15 20 25 30 35 40 45 50 55 60 65 70 75 80 85 90 95]\n5\n"
     ]
    }
   ],
   "source": [
    "import numpy as np\n",
    "hist, bins = np.histogram([10, 20, 30, 40, 50], bins=range(0,100,5))\n",
    "#左邊的有包含，當作起點，最後一個(50)有包含，其他的右邊沒有包含\n",
    "print(hist)\n",
    "print(bins)\n",
    "print(hist.sum())"
   ]
  },
  {
   "cell_type": "code",
   "execution_count": 15,
   "metadata": {},
   "outputs": [
    {
     "output_type": "stream",
     "name": "stdout",
     "text": [
      "[9, 9, 1, 2, 4, 4, 5]\n{1, 2, 4, 5, 9}\n9\n"
     ]
    }
   ],
   "source": [
    "l = [ 9,9,1,2,4,4,5]\n",
    "print(l)\n",
    "s=set(l)\n",
    "print(s)\n",
    "l2=list(s)\n",
    "print(l2[-1])"
   ]
  }
 ]
}